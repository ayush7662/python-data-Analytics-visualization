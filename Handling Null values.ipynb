{
 "cells": [
  {
   "cell_type": "code",
   "execution_count": 1,
   "id": "1be41a99-f1b4-4286-8b76-d1fd18205655",
   "metadata": {},
   "outputs": [
    {
     "name": "stdout",
     "output_type": "stream",
     "text": [
      "   Unnamed: 0      Name gender  salary\n",
      "0           0    ayushi      F   20000\n",
      "1           1     rohit      M   25000\n",
      "2           2  pranjali      F   27000\n"
     ]
    }
   ],
   "source": [
    "import pandas as pd\n",
    "\n",
    "data = pd.read_csv(\"company.csv\")\n",
    "print(data)"
   ]
  },
  {
   "cell_type": "code",
   "execution_count": 2,
   "id": "af6c4b30-6359-46b6-a1f9-ecdceba17e0e",
   "metadata": {},
   "outputs": [
    {
     "name": "stdout",
     "output_type": "stream",
     "text": [
      "   Unnamed: 0   Name  gender  salary\n",
      "0       False  False   False   False\n",
      "1       False  False   False   False\n",
      "2       False  False   False   False\n"
     ]
    }
   ],
   "source": [
    "print(data.isnull())"
   ]
  },
  {
   "cell_type": "code",
   "execution_count": 3,
   "id": "85a55f62-422f-4e18-bdfa-c4674b1c5919",
   "metadata": {},
   "outputs": [
    {
     "name": "stdout",
     "output_type": "stream",
     "text": [
      "Unnamed: 0    0\n",
      "Name          0\n",
      "gender        0\n",
      "salary        0\n",
      "dtype: int64\n"
     ]
    }
   ],
   "source": [
    "print(data.isnull().sum())"
   ]
  },
  {
   "cell_type": "code",
   "execution_count": 4,
   "id": "5755025b-2969-4127-9e94-1406f767cf21",
   "metadata": {},
   "outputs": [
    {
     "name": "stdout",
     "output_type": "stream",
     "text": [
      "   Unnamed: 0      Name gender  salary\n",
      "0           0    ayushi      F   20000\n",
      "1           1     rohit      M   25000\n",
      "2           2  pranjali      F   27000\n"
     ]
    }
   ],
   "source": [
    "print(data.dropna())"
   ]
  },
  {
   "cell_type": "code",
   "execution_count": 5,
   "id": "decc9f20-6575-4cad-9e02-2af8ea6e5eeb",
   "metadata": {},
   "outputs": [
    {
     "name": "stdout",
     "output_type": "stream",
     "text": [
      "   Unnamed: 0      Name gender  salary\n",
      "0           0    ayushi      F   20000\n",
      "1           1     rohit      M   25000\n",
      "2           2  pranjali      F   27000\n"
     ]
    }
   ],
   "source": [
    "print(data)"
   ]
  },
  {
   "cell_type": "code",
   "execution_count": 6,
   "id": "bbfb72f5-f706-4e6f-9ad5-2db9f5424fbd",
   "metadata": {},
   "outputs": [
    {
     "name": "stdout",
     "output_type": "stream",
     "text": [
      "   Unnamed: 0      Name gender  salary\n",
      "0           0    ayushi      F   20000\n",
      "1           1     rohit      M   25000\n",
      "2           2  pranjali      F   27000\n"
     ]
    }
   ],
   "source": [
    "import numpy as np\n",
    "print(data.replace(np.nan,\"hi\"))"
   ]
  },
  {
   "cell_type": "code",
   "execution_count": 7,
   "id": "2e7fc422-a62e-4132-b6c2-e1c1d21ec0cc",
   "metadata": {},
   "outputs": [
    {
     "name": "stdout",
     "output_type": "stream",
     "text": [
      "   Unnamed: 0      Name gender  salary\n",
      "0           0    ayushi      F   20000\n",
      "1           1     rohit      M   25000\n",
      "2           2  pranjali      F   27000\n"
     ]
    }
   ],
   "source": [
    "import numpy as np\n",
    "print(data.replace(np.nan,30000))"
   ]
  },
  {
   "cell_type": "code",
   "execution_count": 9,
   "id": "7a797120-d596-4eef-af6c-9354d4c733ab",
   "metadata": {},
   "outputs": [
    {
     "name": "stdout",
     "output_type": "stream",
     "text": [
      "   Unnamed: 0      Name gender  salary\n",
      "0           0    ayushi      F   20000\n",
      "1           1     rohit      M   25000\n",
      "2           2  pranjali      F   27000\n"
     ]
    }
   ],
   "source": [
    "data[\"salary\"] = data[\"salary\"].replace(np.nan,22000)\n",
    "print(data)"
   ]
  },
  {
   "cell_type": "code",
   "execution_count": 10,
   "id": "ac1fe6ec-c7f2-4c4d-a363-171244b57207",
   "metadata": {},
   "outputs": [
    {
     "name": "stdout",
     "output_type": "stream",
     "text": [
      "24000.0\n"
     ]
    }
   ],
   "source": [
    "print(data[\"salary\"].mean())"
   ]
  },
  {
   "cell_type": "code",
   "execution_count": 11,
   "id": "073a0018-8023-4872-a340-3ba4a4b49e3a",
   "metadata": {},
   "outputs": [
    {
     "name": "stdout",
     "output_type": "stream",
     "text": [
      "   Unnamed: 0      Name gender  salary\n",
      "0           0    ayushi      F   20000\n",
      "1           1     rohit      M   25000\n",
      "2           2  pranjali      F   27000\n"
     ]
    }
   ],
   "source": [
    "print(data)"
   ]
  },
  {
   "cell_type": "raw",
   "id": "ee3c9f7b-d59e-40e0-b5b8-44a0e87b39df",
   "metadata": {},
   "source": [
    "print(data.filledna(method = \"bfill\"))"
   ]
  },
  {
   "cell_type": "code",
   "execution_count": 12,
   "id": "1316166b-6219-4229-bf7e-e8e31e131fef",
   "metadata": {},
   "outputs": [
    {
     "name": "stdout",
     "output_type": "stream",
     "text": [
      "   Unnamed: 0      Name gender  salary\n",
      "0           0    ayushi      F   20000\n",
      "1           1     rohit      M   25000\n",
      "2           2  pranjali      F   27000\n"
     ]
    },
    {
     "name": "stderr",
     "output_type": "stream",
     "text": [
      "C:\\Users\\AYUSH RAJ\\AppData\\Local\\Temp\\ipykernel_26108\\1391920301.py:1: FutureWarning: DataFrame.fillna with 'method' is deprecated and will raise in a future version. Use obj.ffill() or obj.bfill() instead.\n",
      "  print(data.fillna(method = \"ffill\"))\n"
     ]
    }
   ],
   "source": [
    "print(data.fillna(method = \"ffill\"))"
   ]
  },
  {
   "cell_type": "code",
   "execution_count": 13,
   "id": "007478af-f790-4bdc-9376-9a27d7780051",
   "metadata": {},
   "outputs": [
    {
     "name": "stdout",
     "output_type": "stream",
     "text": [
      "   Unnamed: 0      Name gender  salary\n",
      "0           0    ayushi      F   20000\n",
      "1           1     rohit      M   25000\n",
      "2           2  pranjali      F   27000\n"
     ]
    }
   ],
   "source": [
    "print(data.fillna(\"hi\"))"
   ]
  },
  {
   "cell_type": "code",
   "execution_count": 14,
   "id": "9b710561-f63b-4953-ae62-85c9159dcd96",
   "metadata": {},
   "outputs": [
    {
     "name": "stdout",
     "output_type": "stream",
     "text": [
      "   Unnamed: 0      Name gender  salary\n",
      "0           0    ayushi      F   20000\n",
      "1           1     rohit      M   25000\n",
      "2           2  pranjali      F   27000\n"
     ]
    },
    {
     "name": "stderr",
     "output_type": "stream",
     "text": [
      "C:\\Users\\AYUSH RAJ\\AppData\\Local\\Temp\\ipykernel_26108\\2754045057.py:1: FutureWarning: DataFrame.fillna with 'method' is deprecated and will raise in a future version. Use obj.ffill() or obj.bfill() instead.\n",
      "  print(data.fillna(method = \"bfill\"))\n"
     ]
    }
   ],
   "source": [
    "print(data.fillna(method = \"bfill\"))"
   ]
  }
 ],
 "metadata": {
  "kernelspec": {
   "display_name": "Python 3 (ipykernel)",
   "language": "python",
   "name": "python3"
  },
  "language_info": {
   "codemirror_mode": {
    "name": "ipython",
    "version": 3
   },
   "file_extension": ".py",
   "mimetype": "text/x-python",
   "name": "python",
   "nbconvert_exporter": "python",
   "pygments_lexer": "ipython3",
   "version": "3.12.4"
  }
 },
 "nbformat": 4,
 "nbformat_minor": 5
}
