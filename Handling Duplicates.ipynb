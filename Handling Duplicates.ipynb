{
 "cells": [
  {
   "cell_type": "code",
   "execution_count": 1,
   "id": "220fec59-5001-4f4b-917d-c2441c383747",
   "metadata": {},
   "outputs": [
    {
     "name": "stdout",
     "output_type": "stream",
     "text": [
      "       Client_Num  Customer_Age Gender  Dependent_Count Education_Level  \\\n",
      "0       708082083            24      F                1      Uneducated   \n",
      "1       708083283            62      F                0         Unknown   \n",
      "2       708084558            32      F                1         Unknown   \n",
      "3       708085458            38      M                2      Uneducated   \n",
      "4       708086958            48      M                4        Graduate   \n",
      "...           ...           ...    ...              ...             ...   \n",
      "10103   827695683            44      M                3        Graduate   \n",
      "10104   827703258            48      M                3         Unknown   \n",
      "10105   827712108            47      M                4        Graduate   \n",
      "10106   827888433            42      F                3        Graduate   \n",
      "10107   827890758            47      M                4     High School   \n",
      "\n",
      "      Marital_Status state_cd  Zipcode Car_Owner House_Owner Personal_loan  \\\n",
      "0             Single       FL    91750        no         yes            no   \n",
      "1            Married       NJ    91750        no          no            no   \n",
      "2            Married       NJ    91750       yes          no            no   \n",
      "3             Single       NY    91750        no          no            no   \n",
      "4             Single       TX    91750       yes         yes            no   \n",
      "...              ...      ...      ...       ...         ...           ...   \n",
      "10103         Single       NV    91750       yes         yes           yes   \n",
      "10104        Unknown       TX    91750        no         yes            no   \n",
      "10105        Married       NY    91750       yes          no            no   \n",
      "10106        Married       TX    91750        no          no            no   \n",
      "10107        Married       NY    91750        no         yes            no   \n",
      "\n",
      "        contact   Customer_Job  Income  Cust_Satisfaction_Score  \n",
      "0       unknown    Businessman  202326                        3  \n",
      "1      cellular  Selfemployeed    5225                        2  \n",
      "2       unknown  Selfemployeed   14235                        2  \n",
      "3      cellular    Blue-collar   45683                        1  \n",
      "4      cellular    Businessman   59279                        1  \n",
      "...         ...            ...     ...                      ...  \n",
      "10103   unknown  Selfemployeed   44903                        5  \n",
      "10104  cellular  Selfemployeed   73655                        3  \n",
      "10105  cellular  Selfemployeed   62287                        3  \n",
      "10106  cellular   White-collar   21390                        4  \n",
      "10107  cellular  Selfemployeed   42187                        4  \n",
      "\n",
      "[10108 rows x 15 columns]\n"
     ]
    }
   ],
   "source": [
    "import pandas as pd\n",
    "\n",
    "data = pd.read_csv(\"customer.csv\")\n",
    "print(data)"
   ]
  },
  {
   "cell_type": "code",
   "execution_count": 2,
   "id": "c354f644-a2a0-400b-97ea-c34b0d2ccee9",
   "metadata": {},
   "outputs": [
    {
     "name": "stdout",
     "output_type": "stream",
     "text": [
      "0        False\n",
      "1        False\n",
      "2        False\n",
      "3        False\n",
      "4        False\n",
      "         ...  \n",
      "10103    False\n",
      "10104    False\n",
      "10105    False\n",
      "10106    False\n",
      "10107    False\n",
      "Length: 10108, dtype: bool\n"
     ]
    }
   ],
   "source": [
    "print(data.duplicated())"
   ]
  },
  {
   "cell_type": "code",
   "execution_count": 5,
   "id": "f157c93b-67dc-4902-a836-6ed3e48afba0",
   "metadata": {},
   "outputs": [
    {
     "ename": "KeyError",
     "evalue": "'customer'",
     "output_type": "error",
     "traceback": [
      "\u001b[1;31m---------------------------------------------------------------------------\u001b[0m",
      "\u001b[1;31mKeyError\u001b[0m                                  Traceback (most recent call last)",
      "File \u001b[1;32m~\\AppData\\Local\\Programs\\Python\\Python312\\Lib\\site-packages\\pandas\\core\\indexes\\base.py:3805\u001b[0m, in \u001b[0;36mIndex.get_loc\u001b[1;34m(self, key)\u001b[0m\n\u001b[0;32m   3804\u001b[0m \u001b[38;5;28;01mtry\u001b[39;00m:\n\u001b[1;32m-> 3805\u001b[0m     \u001b[38;5;28;01mreturn\u001b[39;00m \u001b[38;5;28;43mself\u001b[39;49m\u001b[38;5;241;43m.\u001b[39;49m\u001b[43m_engine\u001b[49m\u001b[38;5;241;43m.\u001b[39;49m\u001b[43mget_loc\u001b[49m\u001b[43m(\u001b[49m\u001b[43mcasted_key\u001b[49m\u001b[43m)\u001b[49m\n\u001b[0;32m   3806\u001b[0m \u001b[38;5;28;01mexcept\u001b[39;00m \u001b[38;5;167;01mKeyError\u001b[39;00m \u001b[38;5;28;01mas\u001b[39;00m err:\n",
      "File \u001b[1;32mindex.pyx:167\u001b[0m, in \u001b[0;36mpandas._libs.index.IndexEngine.get_loc\u001b[1;34m()\u001b[0m\n",
      "File \u001b[1;32mindex.pyx:196\u001b[0m, in \u001b[0;36mpandas._libs.index.IndexEngine.get_loc\u001b[1;34m()\u001b[0m\n",
      "File \u001b[1;32mpandas\\\\_libs\\\\hashtable_class_helper.pxi:7081\u001b[0m, in \u001b[0;36mpandas._libs.hashtable.PyObjectHashTable.get_item\u001b[1;34m()\u001b[0m\n",
      "File \u001b[1;32mpandas\\\\_libs\\\\hashtable_class_helper.pxi:7089\u001b[0m, in \u001b[0;36mpandas._libs.hashtable.PyObjectHashTable.get_item\u001b[1;34m()\u001b[0m\n",
      "\u001b[1;31mKeyError\u001b[0m: 'customer'",
      "\nThe above exception was the direct cause of the following exception:\n",
      "\u001b[1;31mKeyError\u001b[0m                                  Traceback (most recent call last)",
      "Cell \u001b[1;32mIn[5], line 1\u001b[0m\n\u001b[1;32m----> 1\u001b[0m \u001b[38;5;28mprint\u001b[39m(\u001b[43mdata\u001b[49m\u001b[43m[\u001b[49m\u001b[38;5;124;43m\"\u001b[39;49m\u001b[38;5;124;43mcustomer\u001b[39;49m\u001b[38;5;124;43m\"\u001b[39;49m\u001b[43m]\u001b[49m\u001b[38;5;241m.\u001b[39mduplicated()\u001b[38;5;241m.\u001b[39msum())\n",
      "File \u001b[1;32m~\\AppData\\Local\\Programs\\Python\\Python312\\Lib\\site-packages\\pandas\\core\\frame.py:4090\u001b[0m, in \u001b[0;36mDataFrame.__getitem__\u001b[1;34m(self, key)\u001b[0m\n\u001b[0;32m   4088\u001b[0m \u001b[38;5;28;01mif\u001b[39;00m \u001b[38;5;28mself\u001b[39m\u001b[38;5;241m.\u001b[39mcolumns\u001b[38;5;241m.\u001b[39mnlevels \u001b[38;5;241m>\u001b[39m \u001b[38;5;241m1\u001b[39m:\n\u001b[0;32m   4089\u001b[0m     \u001b[38;5;28;01mreturn\u001b[39;00m \u001b[38;5;28mself\u001b[39m\u001b[38;5;241m.\u001b[39m_getitem_multilevel(key)\n\u001b[1;32m-> 4090\u001b[0m indexer \u001b[38;5;241m=\u001b[39m \u001b[38;5;28;43mself\u001b[39;49m\u001b[38;5;241;43m.\u001b[39;49m\u001b[43mcolumns\u001b[49m\u001b[38;5;241;43m.\u001b[39;49m\u001b[43mget_loc\u001b[49m\u001b[43m(\u001b[49m\u001b[43mkey\u001b[49m\u001b[43m)\u001b[49m\n\u001b[0;32m   4091\u001b[0m \u001b[38;5;28;01mif\u001b[39;00m is_integer(indexer):\n\u001b[0;32m   4092\u001b[0m     indexer \u001b[38;5;241m=\u001b[39m [indexer]\n",
      "File \u001b[1;32m~\\AppData\\Local\\Programs\\Python\\Python312\\Lib\\site-packages\\pandas\\core\\indexes\\base.py:3812\u001b[0m, in \u001b[0;36mIndex.get_loc\u001b[1;34m(self, key)\u001b[0m\n\u001b[0;32m   3807\u001b[0m     \u001b[38;5;28;01mif\u001b[39;00m \u001b[38;5;28misinstance\u001b[39m(casted_key, \u001b[38;5;28mslice\u001b[39m) \u001b[38;5;129;01mor\u001b[39;00m (\n\u001b[0;32m   3808\u001b[0m         \u001b[38;5;28misinstance\u001b[39m(casted_key, abc\u001b[38;5;241m.\u001b[39mIterable)\n\u001b[0;32m   3809\u001b[0m         \u001b[38;5;129;01mand\u001b[39;00m \u001b[38;5;28many\u001b[39m(\u001b[38;5;28misinstance\u001b[39m(x, \u001b[38;5;28mslice\u001b[39m) \u001b[38;5;28;01mfor\u001b[39;00m x \u001b[38;5;129;01min\u001b[39;00m casted_key)\n\u001b[0;32m   3810\u001b[0m     ):\n\u001b[0;32m   3811\u001b[0m         \u001b[38;5;28;01mraise\u001b[39;00m InvalidIndexError(key)\n\u001b[1;32m-> 3812\u001b[0m     \u001b[38;5;28;01mraise\u001b[39;00m \u001b[38;5;167;01mKeyError\u001b[39;00m(key) \u001b[38;5;28;01mfrom\u001b[39;00m \u001b[38;5;21;01merr\u001b[39;00m\n\u001b[0;32m   3813\u001b[0m \u001b[38;5;28;01mexcept\u001b[39;00m \u001b[38;5;167;01mTypeError\u001b[39;00m:\n\u001b[0;32m   3814\u001b[0m     \u001b[38;5;66;03m# If we have a listlike key, _check_indexing_error will raise\u001b[39;00m\n\u001b[0;32m   3815\u001b[0m     \u001b[38;5;66;03m#  InvalidIndexError. Otherwise we fall through and re-raise\u001b[39;00m\n\u001b[0;32m   3816\u001b[0m     \u001b[38;5;66;03m#  the TypeError.\u001b[39;00m\n\u001b[0;32m   3817\u001b[0m     \u001b[38;5;28mself\u001b[39m\u001b[38;5;241m.\u001b[39m_check_indexing_error(key)\n",
      "\u001b[1;31mKeyError\u001b[0m: 'customer'"
     ]
    }
   ],
   "source": [
    "print(data[\"customer\"].duplicated().sum())"
   ]
  },
  {
   "cell_type": "code",
   "execution_count": 6,
   "id": "de513266-f8d3-428f-8c15-34cfbe1a28be",
   "metadata": {},
   "outputs": [
    {
     "name": "stdout",
     "output_type": "stream",
     "text": [
      "       Client_Num  Customer_Age Gender  Dependent_Count Education_Level  \\\n",
      "0       708082083            24      F                1      Uneducated   \n",
      "1       708083283            62      F                0         Unknown   \n",
      "2       708084558            32      F                1         Unknown   \n",
      "3       708085458            38      M                2      Uneducated   \n",
      "4       708086958            48      M                4        Graduate   \n",
      "...           ...           ...    ...              ...             ...   \n",
      "10103   827695683            44      M                3        Graduate   \n",
      "10104   827703258            48      M                3         Unknown   \n",
      "10105   827712108            47      M                4        Graduate   \n",
      "10106   827888433            42      F                3        Graduate   \n",
      "10107   827890758            47      M                4     High School   \n",
      "\n",
      "      Marital_Status state_cd  Zipcode Car_Owner House_Owner Personal_loan  \\\n",
      "0             Single       FL    91750        no         yes            no   \n",
      "1            Married       NJ    91750        no          no            no   \n",
      "2            Married       NJ    91750       yes          no            no   \n",
      "3             Single       NY    91750        no          no            no   \n",
      "4             Single       TX    91750       yes         yes            no   \n",
      "...              ...      ...      ...       ...         ...           ...   \n",
      "10103         Single       NV    91750       yes         yes           yes   \n",
      "10104        Unknown       TX    91750        no         yes            no   \n",
      "10105        Married       NY    91750       yes          no            no   \n",
      "10106        Married       TX    91750        no          no            no   \n",
      "10107        Married       NY    91750        no         yes            no   \n",
      "\n",
      "        contact   Customer_Job  Income  Cust_Satisfaction_Score  \n",
      "0       unknown    Businessman  202326                        3  \n",
      "1      cellular  Selfemployeed    5225                        2  \n",
      "2       unknown  Selfemployeed   14235                        2  \n",
      "3      cellular    Blue-collar   45683                        1  \n",
      "4      cellular    Businessman   59279                        1  \n",
      "...         ...            ...     ...                      ...  \n",
      "10103   unknown  Selfemployeed   44903                        5  \n",
      "10104  cellular  Selfemployeed   73655                        3  \n",
      "10105  cellular  Selfemployeed   62287                        3  \n",
      "10106  cellular   White-collar   21390                        4  \n",
      "10107  cellular  Selfemployeed   42187                        4  \n",
      "\n",
      "[10108 rows x 15 columns]\n"
     ]
    }
   ],
   "source": [
    "print(data.drop_duplicates())"
   ]
  }
 ],
 "metadata": {
  "kernelspec": {
   "display_name": "Python 3 (ipykernel)",
   "language": "python",
   "name": "python3"
  },
  "language_info": {
   "codemirror_mode": {
    "name": "ipython",
    "version": 3
   },
   "file_extension": ".py",
   "mimetype": "text/x-python",
   "name": "python",
   "nbconvert_exporter": "python",
   "pygments_lexer": "ipython3",
   "version": "3.12.4"
  }
 },
 "nbformat": 4,
 "nbformat_minor": 5
}
