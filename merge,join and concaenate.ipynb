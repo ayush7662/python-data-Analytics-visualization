{
 "cells": [
  {
   "cell_type": "code",
   "execution_count": 8,
   "id": "e82c2b83-d8dc-44aa-8602-a4dc9f86a7e8",
   "metadata": {},
   "outputs": [
    {
     "name": "stdout",
     "output_type": "stream",
     "text": [
      "  Emp Id    Name  Age\n",
      "0    E01     Ram   34\n",
      "1    E02   Shyam   56\n",
      "2    E03   Rahul   23\n",
      "3    E04  Vishal   44\n",
      "4    E05    Ravi   32\n",
      "5    E06     Joh   36\n",
      "  Emp Id  Salary\n",
      "0    E01   45000\n",
      "1    E02   50000\n",
      "2    E03   34000\n",
      "3    E04   30000\n",
      "4    E05   50000\n",
      "5    E06   62000\n"
     ]
    }
   ],
   "source": [
    "import pandas as pd\n",
    "\n",
    "data1 ={\"Emp Id\":[\"E01\",\"E02\",\"E03\",\"E04\",\"E05\",\"E06\"],\n",
    "        \"Name\":[\"Ram\",\"Shyam\",\"Rahul\",\"Vishal\",\"Ravi\",\"Joh\"],\n",
    "        \"Age\":[34,56,23,44,32,36]}\n",
    "data2 ={\"Emp Id\":[\"E01\",\"E02\",\"E03\",\"E04\",\"E05\",\"E06\"],\n",
    "        \"Salary\":[45000,50000,34000,30000,50000,62000]}\n",
    "\n",
    "df1 = pd.DataFrame(data1)\n",
    "df2 = pd.DataFrame(data2)\n",
    "print(df1)\n",
    "print(df2)"
   ]
  },
  {
   "cell_type": "code",
   "execution_count": 11,
   "id": "41a18aec-c22a-44ee-85b2-1ca72fcde08c",
   "metadata": {},
   "outputs": [
    {
     "name": "stdout",
     "output_type": "stream",
     "text": [
      "  Emp Id    Name  Age  Salary\n",
      "0    E01     Ram   34   45000\n",
      "1    E02   Shyam   56   50000\n",
      "2    E03   Rahul   23   34000\n",
      "3    E04  Vishal   44   30000\n",
      "4    E05    Ravi   32   50000\n",
      "5    E06     Joh   36   62000\n"
     ]
    }
   ],
   "source": [
    "print(pd.merge(df1,df2,on = \"Emp Id\"))"
   ]
  },
  {
   "cell_type": "code",
   "execution_count": 13,
   "id": "268344de-5b25-4729-a63f-543b6cde0a4b",
   "metadata": {},
   "outputs": [
    {
     "name": "stdout",
     "output_type": "stream",
     "text": [
      "  Emp Id    Name  Age  Salary\n",
      "0    E01     Ram   34   45000\n",
      "1    E02   Shyam   56   50000\n",
      "2    E03   Rahul   23   34000\n",
      "3    E04  Vishal   44   30000\n",
      "4    E05    Ravi   32   50000\n",
      "5    E06     Joh   36   62000\n"
     ]
    }
   ],
   "source": [
    "print(pd.merge(left = df1,right = df2,on = \"Emp Id\", how = \"left\"))"
   ]
  },
  {
   "cell_type": "code",
   "execution_count": 14,
   "id": "979d47c8-1f72-45e9-8dcd-381d9a8b2833",
   "metadata": {},
   "outputs": [
    {
     "name": "stdout",
     "output_type": "stream",
     "text": [
      "  Emp Id    Name  Age  Salary\n",
      "0    E01     Ram   34   45000\n",
      "1    E02   Shyam   56   50000\n",
      "2    E03   Rahul   23   34000\n",
      "3    E04  Vishal   44   30000\n",
      "4    E05    Ravi   32   50000\n",
      "5    E06     Joh   36   62000\n"
     ]
    }
   ],
   "source": [
    "print(pd.merge(left = df1,right = df2,on = \"Emp Id\",how = \"right\"))\n"
   ]
  },
  {
   "cell_type": "code",
   "execution_count": null,
   "id": "f5c917c1-0023-4e7b-8656-952be1c1016c",
   "metadata": {},
   "outputs": [],
   "source": [
    "import pandas as pd\n",
    "\n",
    "data1 ={\"Emp Id\":[\"E01\",\"E02\",\"E03\",\"E04\",\"E05\",\"E06\"],\n",
    "        \"Name\":[\"Ram\",\"Shyam\",\"Rahul\",\"Vishal\",\"Ravi\",\"John\"],\n",
    "        \"Age\":[34,56,23,44,32,36]}\n",
    "\n",
    "data2 ={\"Emp Id\":[\"E07\",\"E08\",\"E09\",\"E010\",\"E011\",\"E012\"],\n",
    "        \"Names\":[\"bittu\",\"chintu\",\"pappu\",\"chotu\",\"bunty\",\"golu\"],\n",
    "       \"Age\":[34,56,23,44,32,36]}\n",
    "\n",
    "df1 = pd.DataFrame(data1)\n",
    "df2 = pd.DataFrame(data2)"
   ]
  },
  {
   "cell_type": "code",
   "execution_count": 15,
   "id": "77b5cf79-92a7-4806-9efa-1ce17fa97bf8",
   "metadata": {},
   "outputs": [
    {
     "name": "stdout",
     "output_type": "stream",
     "text": [
      "  Emp Id    Name   Age   Salary\n",
      "0    E01     Ram  34.0      NaN\n",
      "1    E02   Shyam  56.0      NaN\n",
      "2    E03   Rahul  23.0      NaN\n",
      "3    E04  Vishal  44.0      NaN\n",
      "4    E05    Ravi  32.0      NaN\n",
      "5    E06     Joh  36.0      NaN\n",
      "0    E01     NaN   NaN  45000.0\n",
      "1    E02     NaN   NaN  50000.0\n",
      "2    E03     NaN   NaN  34000.0\n",
      "3    E04     NaN   NaN  30000.0\n",
      "4    E05     NaN   NaN  50000.0\n",
      "5    E06     NaN   NaN  62000.0\n"
     ]
    }
   ],
   "source": [
    "print(pd.concat([df1,df2]))"
   ]
  }
 ],
 "metadata": {
  "kernelspec": {
   "display_name": "Python 3 (ipykernel)",
   "language": "python",
   "name": "python3"
  },
  "language_info": {
   "codemirror_mode": {
    "name": "ipython",
    "version": 3
   },
   "file_extension": ".py",
   "mimetype": "text/x-python",
   "name": "python",
   "nbconvert_exporter": "python",
   "pygments_lexer": "ipython3",
   "version": "3.12.4"
  }
 },
 "nbformat": 4,
 "nbformat_minor": 5
}
